{
 "cells": [
  {
   "cell_type": "code",
   "execution_count": null,
   "metadata": {},
   "outputs": [],
   "source": [
    "import os\n",
    "import sys\n",
    "# sys.path.append(os.path.abspath('..'))"
   ]
  },
  {
   "cell_type": "code",
   "execution_count": null,
   "metadata": {},
   "outputs": [],
   "source": [
    "%cd .."
   ]
  },
  {
   "cell_type": "code",
   "execution_count": null,
   "metadata": {},
   "outputs": [],
   "source": [
    "from src.data_collection.instagram_scraper import instagram_profile_downloader\n",
    "\n",
    "# Example\n",
    "download_parameters = {\n",
    "    'profile_pic': True,\n",
    "    'posts': True,\n",
    "    'tagged': False,\n",
    "    'igtv': False,\n",
    "    'highlights': False,\n",
    "    'stories': False,\n",
    "    'fast_update': False,\n",
    "    'post_filter': None,\n",
    "    'storyitem_filter': None\n",
    "}\n",
    "\n",
    "profile = \"influencer\" # some influencer\n",
    "base_directory = \"data\" # save path, must be created\n",
    "instagram_profile_downloader(username=profile, base_directory=base_directory, download_params=download_parameters)"
   ]
  }
 ],
 "metadata": {
  "kernelspec": {
   "display_name": "Python 3",
   "language": "python",
   "name": "python3"
  },
  "language_info": {
   "codemirror_mode": {
    "name": "ipython",
    "version": 3
   },
   "file_extension": ".py",
   "mimetype": "text/x-python",
   "name": "python",
   "nbconvert_exporter": "python",
   "pygments_lexer": "ipython3",
   "version": "3.11.4"
  }
 },
 "nbformat": 4,
 "nbformat_minor": 2
}
