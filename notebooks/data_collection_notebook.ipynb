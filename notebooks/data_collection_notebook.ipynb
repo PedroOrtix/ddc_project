{
 "cells": [
  {
   "cell_type": "code",
   "execution_count": null,
   "metadata": {},
   "outputs": [],
   "source": [
    "%cd .."
   ]
  },
  {
   "cell_type": "code",
   "execution_count": null,
   "metadata": {},
   "outputs": [],
   "source": [
    "from src.data_collection.instagram_post_scraper import download_instagram_posts\n",
    "from src.data_collection.instagram_profile_scraper import download_instagram_profile_metadata\n",
    "from src.data_cleaning.cleaning_files import clean_instagram_data\n",
    "# Parámetros\n",
    "profile = \"influecer\" # some influencer\n",
    "base_directory = \"data\" # save path, must be created\n",
    "\n",
    "# Ejecutar\n",
    "download_instagram_posts(username=profile, base_directory=base_directory)\n",
    "download_instagram_profile_metadata(username=profile, base_directory=base_directory)\n",
    "clean_instagram_data(profile)"
   ]
  }
 ],
 "metadata": {
  "kernelspec": {
   "display_name": "Python 3",
   "language": "python",
   "name": "python3"
  },
  "language_info": {
   "codemirror_mode": {
    "name": "ipython",
    "version": 3
   },
   "file_extension": ".py",
   "mimetype": "text/x-python",
   "name": "python",
   "nbconvert_exporter": "python",
   "pygments_lexer": "ipython3",
   "version": "3.11.4"
  }
 },
 "nbformat": 4,
 "nbformat_minor": 2
}
